{
 "cells": [
  {
   "cell_type": "code",
   "execution_count": null,
   "metadata": {},
   "outputs": [],
   "source": [
    "#read the text file\n",
    "#tokenize the words \n",
    "#remove stop words\n",
    "#count the words using a dictionary  \n"
   ]
  },
  {
   "cell_type": "code",
   "execution_count": 4,
   "metadata": {},
   "outputs": [],
   "source": [
    "from collections import Counter\n",
    "import os"
   ]
  },
  {
   "cell_type": "code",
   "execution_count": null,
   "metadata": {},
   "outputs": [],
   "source": [
    "def read_file(file_path):\n",
    "    with open(file_path, 'r') as file:\n",
    "        content = file.read()\n",
    "    return content \n",
    "\n",
    "def remove_stop_words(content, stop_words):\n",
    "    words = content.lower().split()\n",
    "    return [word for word in words if word not in stop_words]\n",
    "\n",
    "def find_top_k_words(words, k):\n",
    "    #Counter object uses hash table\n",
    "    word_counts = Counter(words)\n",
    "    return word_counts.most_common(k)\n",
    "\n",
    "def main():\n",
    "    file_path = '/Users/eviljimmy/Desktop/USF/2023_Summer/hw/hw1/small_50MB_dataset.txt'\n",
    "    stop_words = read_file(\"/Users/eviljimmy/Desktop/USF/2023_Summer/hw/hw1/stop_words/NLTK's list of english stopwords\")\n",
    "    k = 10 \n",
    "\n",
    "    content = read_file(file_path)\n",
    "    words = remove_stop_words(content, stop_words)\n",
    "    top_words = find_top_k_words(words,k)\n",
    "\n",
    "    print(f\"Top {k} words (excluding stop words):\")\n",
    "    for word, count in top_words:\n",
    "        print(f\"{word: {count}}\")\n",
    "\n",
    "if __name__ == '__main__':\n",
    "    main()"
   ]
  },
  {
   "cell_type": "code",
   "execution_count": 11,
   "metadata": {},
   "outputs": [],
   "source": [
    "class TextAnalyze:\n",
    "    def __init__(self, stop_words_file):\n",
    "        # load the stop_words file and initialize count\n",
    "        self.stop_words = self.load_stop_words(stop_words_file)\n",
    "        self.word_count = {}\n",
    "    \n",
    "    def load_stop_words(self, stop_words_file):\n",
    "        # open and load the stop words file\n",
    "        with open(stop_words_file, 'r') as file:\n",
    "            stop_words = file.read().splitlines()\n",
    "        return stop_words\n",
    "    \n",
    "    def process_text_file(self, file_path):\n",
    "        with open(file_path, 'r') as file:\n",
    "            for line in file:\n",
    "                self.process_line(line)\n",
    "    \n",
    "    def process_line(self, line):\n",
    "        # strip and set the texts to lowercase\n",
    "        words = line.strip().split()\n",
    "        for word in words:\n",
    "            if word.isalpha():      #check if the word is alphabetic \n",
    "                if word.lower() not in self.stop_words:\n",
    "                    self.word_count[word] = self.word_count.get(word, 0) + 1\n",
    "\n",
    "    def get_top_words(self, k):\n",
    "        # sort and get the top k words\n",
    "        sorted_words = sorted(self.word_count.items(), key = lambda x: x[1], reverse=True)\n",
    "        return sorted_words[:k]"
   ]
  },
  {
   "cell_type": "code",
   "execution_count": 12,
   "metadata": {},
   "outputs": [
    {
     "name": "stdout",
     "output_type": "stream",
     "text": [
      "would,21795\n",
      "US,15810\n",
      "economic,14464\n",
      "countries,13136\n",
      "new,12460\n",
      "political,12229\n",
      "also,12018\n",
      "one,11708\n",
      "global,10935\n",
      "European,10824\n"
     ]
    }
   ],
   "source": [
    "# test \n",
    "analyzer = TextAnalyze(\"stop_words/NLTK's list of english stopwords\")\n",
    "analyzer.process_text_file('small_50MB_dataset.txt')\n",
    "top_words = analyzer.get_top_words(10)\n",
    "\n",
    "#print top words\n",
    "for word, count in top_words:\n",
    "    print(f'{word},{count}')"
   ]
  },
  {
   "cell_type": "code",
   "execution_count": 16,
   "metadata": {},
   "outputs": [],
   "source": [
    "#analyze performance \n",
    "import time\n",
    "import psutil\n",
    "\n",
    "def analyze_performance(filepath):\n",
    "    # Start measuring time\n",
    "    start_time = time.time()\n",
    "\n",
    "    # get top k words \n",
    "    analyzer = TextAnalyze(\"stop_words/NLTK's list of english stopwords\")\n",
    "    analyzer.process_text_file(filepath)\n",
    "    top_words = analyzer.get_top_words(10)\n",
    "\n",
    "    #print top words\n",
    "    for word, count in top_words:\n",
    "        print(f'{word},{count}')\n",
    "\n",
    "    # Stop measuring time\n",
    "    end_time = time.time()\n",
    "    running_time = end_time - start_time\n",
    "    print(f\"Running Time: {running_time} seconds\")\n",
    "\n",
    "    # Get CPU utilization\n",
    "    cpu_utilization = psutil.cpu_percent()\n",
    "    print(f\"CPU Utilization: {cpu_utilization}%\")\n",
    "\n",
    "    # Get memory usage\n",
    "    memory_usage = psutil.Process().memory_info().rss / 1024 / 1024  # in MB\n",
    "    print(f\"Memory Usage: {memory_usage} MB\")"
   ]
  },
  {
   "cell_type": "code",
   "execution_count": 14,
   "metadata": {},
   "outputs": [
    {
     "name": "stdout",
     "output_type": "stream",
     "text": [
      "would,21795\n",
      "US,15810\n",
      "economic,14464\n",
      "countries,13136\n",
      "new,12460\n",
      "political,12229\n",
      "also,12018\n",
      "one,11708\n",
      "global,10935\n",
      "European,10824\n",
      "Running Time: 7.834611892700195 seconds\n",
      "CPU Utilization: 11.5%\n",
      "Memory Usage: 130.60546875 MB\n"
     ]
    }
   ],
   "source": [
    "# Call the performance analysis function\n",
    "filepath = 'small_50MB_dataset.txt'\n",
    "analyze_performance(filepath)"
   ]
  },
  {
   "cell_type": "code",
   "execution_count": 17,
   "metadata": {},
   "outputs": [
    {
     "name": "stdout",
     "output_type": "stream",
     "text": [
      "European,316713\n",
      "Mr,210158\n",
      "would,178550\n",
      "also,175427\n",
      "must,153717\n",
      "Commission,138001\n",
      "Member,119742\n",
      "like,107437\n",
      "Parliament,85550\n",
      "one,84992\n",
      "Running Time: 56.86176419258118 seconds\n",
      "CPU Utilization: 14.4%\n",
      "Memory Usage: 44.8125 MB\n"
     ]
    }
   ],
   "source": [
    "# 300MB\n",
    "filepath = 'data_300MB.txt'\n",
    "analyze_performance(filepath)"
   ]
  },
  {
   "cell_type": "code",
   "execution_count": 18,
   "metadata": {},
   "outputs": [
    {
     "name": "stdout",
     "output_type": "stream",
     "text": [
      "said,1572125\n",
      "would,903267\n",
      "one,755766\n",
      "also,704422\n",
      "de,620092\n",
      "last,573309\n",
      "two,566546\n",
      "first,557474\n",
      "people,557166\n",
      "new,546573\n",
      "Running Time: 486.91321206092834 seconds\n",
      "CPU Utilization: 26.1%\n",
      "Memory Usage: 196.24609375 MB\n"
     ]
    }
   ],
   "source": [
    "# 2.5GB\n",
    "filepath = 'data_2.5GB.txt'\n",
    "analyze_performance(filepath)"
   ]
  },
  {
   "cell_type": "code",
   "execution_count": 19,
   "metadata": {},
   "outputs": [
    {
     "name": "stdout",
     "output_type": "stream",
     "text": [
      "said,10397763\n",
      "would,5738120\n",
      "one,4664992\n",
      "also,4446636\n",
      "two,3535784\n",
      "last,3520997\n",
      "first,3458376\n",
      "people,3447034\n",
      "new,3377098\n",
      "could,3286270\n",
      "Running Time: 3063.7685120105743 seconds\n",
      "CPU Utilization: 33.4%\n",
      "Memory Usage: 283.8359375 MB\n"
     ]
    }
   ],
   "source": [
    "# 16GB\n",
    "filepath = 'data_16GB.txt'\n",
    "analyze_performance(filepath)"
   ]
  },
  {
   "cell_type": "code",
   "execution_count": 25,
   "metadata": {},
   "outputs": [
    {
     "name": "stderr",
     "output_type": "stream",
     "text": [
      "Exception in thread Exception in thread Thread-12:\n",
      "Traceback (most recent call last):\n",
      "  File \"/Users/eviljimmy/opt/anaconda3/lib/python3.9/threading.py\", line 973, in _bootstrap_inner\n",
      "Thread-13:\n",
      "Traceback (most recent call last):\n",
      "  File \"/Users/eviljimmy/opt/anaconda3/lib/python3.9/threading.py\", line 973, in _bootstrap_inner\n",
      "    self.run()\n",
      "  File \"/var/folders/5z/d3h21k595t736_39rxwtb4rw0000gn/T/ipykernel_42340/1396404682.py\", line 11, in run\n",
      "Exception in thread Thread-14:\n",
      "Traceback (most recent call last):\n",
      "  File \"/Users/eviljimmy/opt/anaconda3/lib/python3.9/threading.py\", line 973, in _bootstrap_inner\n",
      "Exception in thread Thread-15:\n",
      "Traceback (most recent call last):\n",
      "  File \"/Users/eviljimmy/opt/anaconda3/lib/python3.9/threading.py\", line 973, in _bootstrap_inner\n",
      "    self.run()\n",
      "  File \"/var/folders/5z/d3h21k595t736_39rxwtb4rw0000gn/T/ipykernel_42340/1396404682.py\", line 11, in run\n",
      "    self.run()\n",
      "  File \"/var/folders/5z/d3h21k595t736_39rxwtb4rw0000gn/T/ipykernel_42340/1396404682.py\", line 11, in run\n",
      "    self.run()\n",
      "  File \"/var/folders/5z/d3h21k595t736_39rxwtb4rw0000gn/T/ipykernel_42340/1396404682.py\", line 11, in run\n",
      "TypeErrorTypeErrorTypeError: expected str, bytes or os.PathLike object, not list\n",
      ": expected str, bytes or os.PathLike object, not list\n",
      "TypeError: expected str, bytes or os.PathLike object, not list\n",
      ": expected str, bytes or os.PathLike object, not list\n"
     ]
    },
    {
     "name": "stdout",
     "output_type": "stream",
     "text": [
      "{}\n"
     ]
    }
   ],
   "source": [
    "import threading\n",
    "\n",
    "class WordCounterThread(threading.Thread):\n",
    "    def __init__(self, partition):\n",
    "        threading.Thread.__init__(self)\n",
    "        self.partition = partition\n",
    "        self.word_count = {}\n",
    "\n",
    "    def run(self):\n",
    "        # Process the partition and count the words\n",
    "        with open(self.partition, 'r') as file:\n",
    "            for line in file:\n",
    "                words = line.strip().split()\n",
    "                for word in words:\n",
    "                    self.word_count[word] = self.word_count.get(word, 0) + 1\n",
    "\n",
    "    def get_word_count(self):\n",
    "        return self.word_count\n",
    "\n",
    "def create_partitions(file_path, num_partitions):\n",
    "    partitions = []\n",
    "    with open(file_path, 'r') as file:\n",
    "        lines = file.readlines()\n",
    "        total_lines = len(lines)\n",
    "        lines_per_partition = total_lines // num_partitions\n",
    "\n",
    "        start = 0\n",
    "        for i in range(num_partitions - 1):\n",
    "            end = start + lines_per_partition\n",
    "            partition = lines[start:end]\n",
    "            partitions.append(partition)\n",
    "            start = end\n",
    "\n",
    "        # Last partition may have remaining lines\n",
    "        last_partition = lines[start:]\n",
    "        partitions.append(last_partition)\n",
    "\n",
    "    return partitions\n",
    "\n",
    "def count_words_parallel(file_path, num_threads):\n",
    "    # Divide the text file into partitions\n",
    "    # Assuming the partitions are stored in a list called 'partitions'\n",
    "    partitions = create_partitions(file_path, num_threads)\n",
    "\n",
    "    # Create and start the threads\n",
    "    threads = []\n",
    "    for i in range(num_threads):\n",
    "        thread = WordCounterThread(partitions[i])\n",
    "        threads.append(thread)\n",
    "        thread.start()\n",
    "\n",
    "    # Wait for all threads to finish\n",
    "    for thread in threads:\n",
    "        thread.join()\n",
    "\n",
    "    # Merge the word counts from each thread\n",
    "    merged_word_count = {}\n",
    "    for thread in threads:\n",
    "        word_count = thread.get_word_count()\n",
    "        for word, count in word_count.items():\n",
    "            merged_word_count[word] = merged_word_count.get(word, 0) + count\n",
    "\n",
    "    return merged_word_count\n",
    "\n",
    "# Usage example\n",
    "file_path = 'small_50MB_dataset.txt'\n",
    "num_threads = 4\n",
    "word_count = count_words_parallel(file_path, num_threads)\n",
    "print(word_count)\n"
   ]
  },
  {
   "cell_type": "code",
   "execution_count": 23,
   "metadata": {},
   "outputs": [
    {
     "name": "stderr",
     "output_type": "stream",
     "text": [
      "Exception in thread Exception in thread Thread-4:\n",
      "Traceback (most recent call last):\n",
      "  File \"/Users/eviljimmy/opt/anaconda3/lib/python3.9/threading.py\", line 973, in _bootstrap_inner\n",
      "Thread-5:\n",
      "Traceback (most recent call last):\n",
      "  File \"/Users/eviljimmy/opt/anaconda3/lib/python3.9/threading.py\", line 973, in _bootstrap_inner\n",
      "Exception in thread Thread-6:\n",
      "Traceback (most recent call last):\n",
      "  File \"/Users/eviljimmy/opt/anaconda3/lib/python3.9/threading.py\", line 973, in _bootstrap_inner\n",
      "Exception in thread Thread-7:\n",
      "Traceback (most recent call last):\n",
      "  File \"/Users/eviljimmy/opt/anaconda3/lib/python3.9/threading.py\", line 973, in _bootstrap_inner\n",
      "Exception in thread Thread-8:\n",
      "Traceback (most recent call last):\n",
      "  File \"/Users/eviljimmy/opt/anaconda3/lib/python3.9/threading.py\", line 973, in _bootstrap_inner\n",
      "Exception in thread Thread-9:\n",
      "Traceback (most recent call last):\n",
      "  File \"/Users/eviljimmy/opt/anaconda3/lib/python3.9/threading.py\", line 973, in _bootstrap_inner\n",
      "Exception in thread Exception in thread     self.run()\n",
      "  File \"/var/folders/5z/d3h21k595t736_39rxwtb4rw0000gn/T/ipykernel_42340/1210046160.py\", line 13, in run\n",
      "    self.run()\n",
      "  File \"/var/folders/5z/d3h21k595t736_39rxwtb4rw0000gn/T/ipykernel_42340/1210046160.py\", line 13, in run\n",
      "Thread-10:\n",
      "    Traceback (most recent call last):\n",
      "  File \"/Users/eviljimmy/opt/anaconda3/lib/python3.9/threading.py\", line 973, in _bootstrap_inner\n",
      "self.run()\n",
      "  File \"/var/folders/5z/d3h21k595t736_39rxwtb4rw0000gn/T/ipykernel_42340/1210046160.py\", line 13, in run\n",
      "    self.run()\n",
      "  File \"/var/folders/5z/d3h21k595t736_39rxwtb4rw0000gn/T/ipykernel_42340/1210046160.py\", line 13, in run\n",
      "    self.run()\n",
      "  File \"/var/folders/5z/d3h21k595t736_39rxwtb4rw0000gn/T/ipykernel_42340/1210046160.py\", line 13, in run\n",
      "Thread-11:\n",
      "Traceback (most recent call last):\n",
      "  File \"/Users/eviljimmy/opt/anaconda3/lib/python3.9/threading.py\", line 973, in _bootstrap_inner\n",
      "    self.run()\n",
      "  File \"/var/folders/5z/d3h21k595t736_39rxwtb4rw0000gn/T/ipykernel_42340/1210046160.py\", line 13, in run\n",
      "    self.run()\n",
      "  File \"/var/folders/5z/d3h21k595t736_39rxwtb4rw0000gn/T/ipykernel_42340/1210046160.py\", line 13, in run\n",
      "    self.run()\n",
      "  File \"/var/folders/5z/d3h21k595t736_39rxwtb4rw0000gn/T/ipykernel_42340/1210046160.py\", line 13, in run\n",
      "TypeErrorTypeErrorTypeError: expected str, bytes or os.PathLike object, not list\n",
      ": expected str, bytes or os.PathLike object, not list\n",
      "TypeError: expected str, bytes or os.PathLike object, not list\n",
      "TypeErrorTypeError: expected str, bytes or os.PathLike object, not list\n",
      ": expected str, bytes or os.PathLike object, not list\n",
      "TypeErrorTypeError: expected str, bytes or os.PathLike object, not list\n",
      ": expected str, bytes or os.PathLike object, not list\n",
      ": expected str, bytes or os.PathLike object, not list\n"
     ]
    },
    {
     "name": "stdout",
     "output_type": "stream",
     "text": [
      "{}\n"
     ]
    }
   ],
   "source": [
    "# testing the run time in multiple threads\n",
    "file_path = 'small_50MB_dataset.txt'\n",
    "num_threads = 8\n",
    "word_count = count_words_parallel(file_path, num_threads)\n",
    "print(word_count)"
   ]
  },
  {
   "cell_type": "code",
   "execution_count": null,
   "metadata": {},
   "outputs": [],
   "source": [
    "# using concurent hashtable "
   ]
  }
 ],
 "metadata": {
  "kernelspec": {
   "display_name": "base",
   "language": "python",
   "name": "python3"
  },
  "language_info": {
   "codemirror_mode": {
    "name": "ipython",
    "version": 3
   },
   "file_extension": ".py",
   "mimetype": "text/x-python",
   "name": "python",
   "nbconvert_exporter": "python",
   "pygments_lexer": "ipython3",
   "version": "3.9.12"
  },
  "orig_nbformat": 4
 },
 "nbformat": 4,
 "nbformat_minor": 2
}
